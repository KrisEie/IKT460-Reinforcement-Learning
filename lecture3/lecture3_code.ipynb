{
 "cells": [
  {
   "cell_type": "code",
   "execution_count": 2,
   "id": "c1006ce3",
   "metadata": {},
   "outputs": [],
   "source": [
    "import numpy as np\n",
    "def G(t, gamma, r_fn):\n",
    "    v = 0\n",
    "    for step in range(t):\n",
    "        v += gamma**step * r_fn()\n",
    "    return v"
   ]
  },
  {
   "cell_type": "code",
   "execution_count": 3,
   "id": "d0e22dd4",
   "metadata": {},
   "outputs": [
    {
     "data": {
      "text/plain": [
       "63.396765872677015"
      ]
     },
     "execution_count": 3,
     "metadata": {},
     "output_type": "execute_result"
    }
   ],
   "source": [
    "G(t=100, gamma=0.99, r_fn=lambda: 1)\n",
    "# gamme is usually between ▾ 0.95 and 0.99"
   ]
  },
  {
   "cell_type": "code",
   "execution_count": null,
   "id": "aac11645",
   "metadata": {},
   "outputs": [],
   "source": []
  },
  {
   "cell_type": "code",
   "execution_count": null,
   "id": "a52a99c5",
   "metadata": {},
   "outputs": [],
   "source": []
  },
  {
   "cell_type": "code",
   "execution_count": 7,
   "id": "746b475e",
   "metadata": {},
   "outputs": [
    {
     "name": "stdout",
     "output_type": "stream",
     "text": [
      "[[0]\n",
      " [0]\n",
      " [0]\n",
      " [0]\n",
      " [0]\n",
      " [0]]\n"
     ]
    }
   ],
   "source": [
    "import numpy as np\n",
    "N_STATES = 6\n",
    "N_ACTIONS = 2 # North, South\n",
    "GAMMA = 0.0000000001\n",
    "T = np.zeros((N_STATES, N_ACTIONS, N_STATES)) # transi\n",
    "R = np.zeros((N_STATES, N_ACTIONS, N_STATES)) # reward\n",
    "PI = np.zeros(shape=(N_STATES, 1), dtype=np.int)#np.ran\n",
    "V = np.random.rand(N_STATES, 1)\n",
    "T[0,0,1] = 0.8\n",
    "T[0,1,2] = 0.2\n",
    "T[1,0,3] = 0.2\n",
    "T[1,1,4] = 0.8\n",
    "T[2,0,4] = 0.2\n",
    "T[2,1,5] = 0.8\n",
    "R[0,0,1] = 2.0\n",
    "R[0,1,2] = 1.0\n",
    "R[1,0,3] = -2.0\n",
    "R[1,1,4] = 1.0\n",
    "R[2,0,4] = 1.0\n",
    "R[2,1,5] = -0.5\n",
    "print(PI)"
   ]
  },
  {
   "cell_type": "code",
   "execution_count": 12,
   "id": "683ce57f",
   "metadata": {},
   "outputs": [
    {
     "ename": "SyntaxError",
     "evalue": "invalid syntax (463393247.py, line 4)",
     "output_type": "error",
     "traceback": [
      "\u001b[0;36m  Input \u001b[0;32mIn [12]\u001b[0;36m\u001b[0m\n\u001b[0;31m    for s in range(N_STATES):\u001b[0m\n\u001b[0m                            ^\u001b[0m\n\u001b[0;31mSyntaxError\u001b[0m\u001b[0;31m:\u001b[0m invalid syntax\n"
     ]
    }
   ],
   "source": [
    "import itertools\n",
    "for s in range(N_STATES):\n",
    "    V[s] = sum([T[s, PI[s], s1] * (R[s,PI[s],s1] + GAMM)])\n",
    "    for s in range(N_STATES):\n",
    "        q_best = V[s]\n",
    "        for a in range(N_ACTIONS):\n",
    "        #q_sa = sum([T[s, a, s1] * (R[s, a, s1] + GAMMA\n",
    "            q_sa = sum([R[s, a, s1] + (T[s, a, s1] * GAMMA)])\n",
    "            if q_sa > q_best:\n",
    "                print(\"State\", s, \": q_sa\", q_sa, \"q_best\",)\n",
    "                PI[s] = a\n",
    "                q_best = q_sa\n",
    "print(V)\n",
    "print(PI)"
   ]
  },
  {
   "cell_type": "code",
   "execution_count": null,
   "id": "c16b8d62",
   "metadata": {},
   "outputs": [],
   "source": []
  },
  {
   "cell_type": "code",
   "execution_count": null,
   "id": "57e89bbb",
   "metadata": {},
   "outputs": [],
   "source": []
  },
  {
   "cell_type": "code",
   "execution_count": null,
   "id": "74ed12fd",
   "metadata": {},
   "outputs": [],
   "source": []
  }
 ],
 "metadata": {
  "kernelspec": {
   "display_name": "Python 3 (ipykernel)",
   "language": "python",
   "name": "python3"
  },
  "language_info": {
   "codemirror_mode": {
    "name": "ipython",
    "version": 3
   },
   "file_extension": ".py",
   "mimetype": "text/x-python",
   "name": "python",
   "nbconvert_exporter": "python",
   "pygments_lexer": "ipython3",
   "version": "3.8.10"
  }
 },
 "nbformat": 4,
 "nbformat_minor": 5
}
